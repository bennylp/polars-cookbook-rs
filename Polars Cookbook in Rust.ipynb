{
 "cells": [
  {
   "cell_type": "markdown",
   "id": "11303308",
   "metadata": {},
   "source": [
    "# Polars Cookbook in Rust\n",
    "\n",
    "This notebook contains short and sweet examples for useful Polars recipes. It is similar to [Pandas' Cookbook](https://pandas.pydata.org/pandas-docs/stable/user_guide/cookbook.html), and some examples are taken from there.\n",
    "\n",
    "Note that I'm a beginner in Polars and Rust in general and I created this as an exercise for myself. I'm sure this notebook contains many errors and/or inefficient codes, feel free to submit PR to fix them."
   ]
  },
  {
   "cell_type": "markdown",
   "id": "38f90864",
   "metadata": {},
   "source": [
    "## Installation\n",
    "\n",
    "Add to `Cargo.toml`:\n",
    "\n",
    "```\n",
    "[dependencies]\n",
    "polars = { version = \"0.30.0\", features = [\"lazy\"]}\n",
    "```\n",
    "\n",
    "**Important**: you do need to specify the \"lazy\" feature.\n",
    "\n",
    "For more info, see [Installation (Polar user's guide)](https://pola-rs.github.io/polars-book/user-guide/installation/). \n",
    "\n",
    "For this notebook, we need to specify this instead:"
   ]
  },
  {
   "cell_type": "code",
   "execution_count": 2,
   "id": "02cdb5a3",
   "metadata": {},
   "outputs": [],
   "source": [
    ":dep polars = { version = \"0.31.0\", features = [\"lazy\", \"parquet\"]}"
   ]
  },
  {
   "cell_type": "markdown",
   "id": "88d4aee3",
   "metadata": {},
   "source": [
    "## Importing\n"
   ]
  },
  {
   "cell_type": "code",
   "execution_count": 3,
   "id": "a3f97310",
   "metadata": {},
   "outputs": [],
   "source": [
    "use polars::prelude::*;"
   ]
  },
  {
   "cell_type": "markdown",
   "id": "23440f77",
   "metadata": {},
   "source": [
    "Note: I tried to use `use polars::prelude as pl` construct but immediately some macros don't work."
   ]
  },
  {
   "cell_type": "markdown",
   "id": "524aa1ff",
   "metadata": {},
   "source": [
    "## Creating Series\n",
    "\n",
    "Reference:\n",
    "\n",
    "- [Series (Polars eager API cookbook)](https://pola-rs.github.io/polars/polars/docs/eager/index.html#series)"
   ]
  },
  {
   "cell_type": "markdown",
   "id": "15f3505f",
   "metadata": {},
   "source": [
    "### From iterator"
   ]
  },
  {
   "cell_type": "code",
   "execution_count": 4,
   "id": "605b6812",
   "metadata": {},
   "outputs": [
    {
     "name": "stdout",
     "output_type": "stream",
     "text": [
      "Map { iter: 0..5 }\n",
      "\n",
      "shape: (5,)\n",
      "Series: 'foo' [i32]\n",
      "[\n",
      "\t0\n",
      "\t1\n",
      "\t2\n",
      "\t3\n",
      "\t4\n",
      "]\n"
     ]
    },
    {
     "data": {
      "text/plain": [
       "()"
      ]
     },
     "execution_count": 4,
     "metadata": {},
     "output_type": "execute_result"
    }
   ],
   "source": [
    "{\n",
    "    let itr = (0..5).map(Some);\n",
    "    println!(\"{:?}\", itr);\n",
    "    \n",
    "    let mut s: Series = itr.collect();\n",
    "    s.rename(\"foo\");\n",
    "    println!(\"\\n{}\", s);\n",
    "}"
   ]
  },
  {
   "cell_type": "markdown",
   "id": "848ebc24",
   "metadata": {},
   "source": [
    "### From slices"
   ]
  },
  {
   "cell_type": "code",
   "execution_count": 127,
   "id": "b44ba003",
   "metadata": {},
   "outputs": [
    {
     "data": {
      "text/plain": [
       "shape: (3,)\n",
       "Series: 'foo' [str]\n",
       "[\n",
       "\t\"hello\"\n",
       "\t\"world!\"\n",
       "\tnull\n",
       "]"
      ]
     },
     "execution_count": 127,
     "metadata": {},
     "output_type": "execute_result"
    }
   ],
   "source": [
    "{\n",
    "    Series::new(\"foo\", &[Some(\"hello\"), Some(\"world!\"), None])\n",
    "}"
   ]
  },
  {
   "cell_type": "markdown",
   "id": "f2830d0b",
   "metadata": {},
   "source": [
    "### From chunked-Array"
   ]
  },
  {
   "cell_type": "code",
   "execution_count": 128,
   "id": "6b21118e",
   "metadata": {},
   "outputs": [
    {
     "data": {
      "text/plain": [
       "shape: (3,)\n",
       "Series: 'foo' [u32]\n",
       "[\n",
       "\t1\n",
       "\tnull\n",
       "\t3\n",
       "]"
      ]
     },
     "execution_count": 128,
     "metadata": {},
     "output_type": "execute_result"
    }
   ],
   "source": [
    "{\n",
    "    let ca = UInt32Chunked::new(\"foo\", &[Some(1), None, Some(3)]);\n",
    "    ca.into_series()\n",
    "}"
   ]
  },
  {
   "cell_type": "markdown",
   "id": "89b714fb",
   "metadata": {},
   "source": [
    "## Creating DataFrame\n",
    "\n",
    "References:\n",
    "\n",
    "- [DataFrame (Polars API reference)](https://pola-rs.github.io/polars/polars/frame/struct.DataFrame.html)\n"
   ]
  },
  {
   "cell_type": "markdown",
   "id": "d96e5c67",
   "metadata": {},
   "source": [
    "### Creating empty DataFrame"
   ]
  },
  {
   "cell_type": "code",
   "execution_count": 7,
   "id": "8551c219",
   "metadata": {},
   "outputs": [
    {
     "data": {
      "text/plain": [
       "shape: (0, 0)\n",
       "┌┐\n",
       "╞╡\n",
       "└┘"
      ]
     },
     "execution_count": 7,
     "metadata": {},
     "output_type": "execute_result"
    }
   ],
   "source": [
    "{\n",
    "    let df = DataFrame::default();\n",
    "    \n",
    "    assert!(df.is_empty());\n",
    "    \n",
    "    df\n",
    "}\n"
   ]
  },
  {
   "cell_type": "markdown",
   "id": "b99579b7",
   "metadata": {},
   "source": [
    "I think empty DataFrame is not useful since AFAIK there's no way to add row one by one. Ultimately, you would need to construct a DataFrame from array or Series using `df!` or `DataFrame::new` below."
   ]
  },
  {
   "cell_type": "markdown",
   "id": "ae393436",
   "metadata": {},
   "source": [
    "### With df! macro"
   ]
  },
  {
   "cell_type": "code",
   "execution_count": 5,
   "id": "926bf40a",
   "metadata": {},
   "outputs": [
    {
     "name": "stdout",
     "output_type": "stream",
     "text": [
      "shape: (4, 3)\n",
      "┌─────┬───────┬─────┐\n",
      "│ AAA ┆ BBB   ┆ CCC │\n"
     ]
    }
   ],
   "source": [
    "let df01 = df! (\n",
    "    \"AAA\" => &[4, 5, 6, 7],\n",
    "    \"BBB\" => &[Some(\"hello\"), Some(\"world\"), Some(\"!\"), None],\n",
    "    \"CCC\" => &[1.1, 2.2, 3.3, 4.4],\n",
    ")?;\n",
    "\n",
    "println!(\"{}\", df01);"
   ]
  },
  {
   "cell_type": "markdown",
   "id": "03724bde",
   "metadata": {},
   "source": [
    "### From Series\n"
   ]
  },
  {
   "cell_type": "code",
   "execution_count": 6,
   "id": "e2932413",
   "metadata": {},
   "outputs": [
    {
     "name": "stdout",
     "output_type": "stream",
     "text": [
      "│ --- ┆ ---   ┆ --- │\n",
      "│ i32 ┆ str   ┆ f64 │\n",
      "╞═════╪═══════╪═════╡\n",
      "│ 4   ┆ hello ┆ 1.1 │\n",
      "│ 5   ┆ world ┆ 2.2 │\n",
      "│ 6   ┆ !     ┆ 3.3 │\n",
      "│ 7   ┆ null  ┆ 4.4 │\n",
      "└─────┴───────┴─────┘\n",
      "shape: (4, 3)\n",
      "┌─────┬───────┬─────┐\n",
      "│ AAA ┆ BBB   ┆ CCC │\n",
      "│ --- ┆ ---   ┆ --- │\n",
      "│ i32 ┆ str   ┆ f64 │\n",
      "╞═════╪═══════╪═════╡\n",
      "│ 4   ┆ hello ┆ 1.1 │\n",
      "│ 5   ┆ world ┆ 2.2 │\n",
      "│ 6   ┆ !     ┆ 3.3 │\n",
      "│ 7   ┆ null  ┆ 4.4 │\n",
      "└─────┴───────┴─────┘\n"
     ]
    }
   ],
   "source": [
    "let df02 = {\n",
    "    let aaa = Series::new(\"AAA\", [4, 5, 6, 7]);\n",
    "    let bbb = Series::new(\"BBB\", [Some(\"hello\"), Some(\"world\"), Some(\"!\"), None]);\n",
    "    let ccc = Series::new(\"CCC\", [1.1, 2.2, 3.3, 4.4]);\n",
    "\n",
    "    DataFrame::new(vec![aaa, bbb, ccc])?\n",
    "};\n",
    "\n",
    "assert_eq!(df02, df01);\n",
    "\n",
    "println!(\"{}\", df02);"
   ]
  },
  {
   "cell_type": "markdown",
   "id": "76e80c3e",
   "metadata": {},
   "source": [
    "### From array of struct/dict\n",
    "\n",
    "AFAIK you can't (as of v0.30.0). Ultimately you need to convert those to list of values to be fed to `df!` or `DataFrame::new` API above.\n",
    "\n",
    "References:\n",
    "\n",
    "- https://stackoverflow.com/questions/73167416/creating-polars-dataframe-from-vecstruct?rq=3\n",
    "- https://stackoverflow.com/questions/69112232/rust-dataframe-in-polars-using-a-vector-of-structs?rq=3"
   ]
  },
  {
   "cell_type": "markdown",
   "id": "a97a2836",
   "metadata": {},
   "source": [
    "## DataFrame structure\n",
    "\n",
    "Reference:\n",
    "\n",
    "- [DataFrame (Polars API reference)](https://pola-rs.github.io/polars/polars/frame/struct.DataFrame.html)\n",
    "- [DataFrame attributes (Polars Python API Reference)](https://pola-rs.github.io/polars/py-polars/html/reference/dataframe/attributes.html)"
   ]
  },
  {
   "cell_type": "markdown",
   "id": "529f347f",
   "metadata": {},
   "source": [
    "### Column names"
   ]
  },
  {
   "cell_type": "code",
   "execution_count": 78,
   "id": "7d0e3a74",
   "metadata": {},
   "outputs": [
    {
     "data": {
      "text/plain": [
       "[\"AAA\", \"BBB\", \"CCC\"]"
      ]
     },
     "execution_count": 78,
     "metadata": {},
     "output_type": "execute_result"
    }
   ],
   "source": [
    "df01.get_column_names()"
   ]
  },
  {
   "cell_type": "markdown",
   "id": "d40882ea",
   "metadata": {},
   "source": [
    "### Schema\n",
    "\n",
    "The [DataFrame.schema()](https://pola-rs.github.io/polars/polars/frame/struct.DataFrame.html#method.schema) method returns Schema object:"
   ]
  },
  {
   "cell_type": "code",
   "execution_count": 142,
   "id": "7735c2e4",
   "metadata": {},
   "outputs": [
    {
     "name": "stdout",
     "output_type": "stream",
     "text": [
      "Schema:\n",
      "name: AAA, data type: Int32\n",
      "name: BBB, data type: Utf8\n",
      "name: CCC, data type: Float64\n",
      "\n"
     ]
    }
   ],
   "source": [
    "println!(\"{:?}\", df01.schema());"
   ]
  },
  {
   "cell_type": "markdown",
   "id": "2f3d8e9a",
   "metadata": {},
   "source": [
    "### Shape, row count, column count"
   ]
  },
  {
   "cell_type": "code",
   "execution_count": 114,
   "id": "b2e2224d",
   "metadata": {},
   "outputs": [
    {
     "data": {
      "text/plain": [
       "(4, 3)"
      ]
     },
     "execution_count": 114,
     "metadata": {},
     "output_type": "execute_result"
    }
   ],
   "source": [
    "df01.shape()"
   ]
  },
  {
   "cell_type": "code",
   "execution_count": 115,
   "id": "fa91a9f7",
   "metadata": {},
   "outputs": [
    {
     "data": {
      "text/plain": [
       "4"
      ]
     },
     "execution_count": 115,
     "metadata": {},
     "output_type": "execute_result"
    }
   ],
   "source": [
    "df01.height()"
   ]
  },
  {
   "cell_type": "code",
   "execution_count": 116,
   "id": "4b635d15",
   "metadata": {},
   "outputs": [
    {
     "data": {
      "text/plain": [
       "3"
      ]
     },
     "execution_count": 116,
     "metadata": {},
     "output_type": "execute_result"
    }
   ],
   "source": [
    "df01.width()"
   ]
  },
  {
   "cell_type": "markdown",
   "id": "ec2b4e85",
   "metadata": {},
   "source": [
    "### is_empty()"
   ]
  },
  {
   "cell_type": "code",
   "execution_count": 23,
   "id": "391c6214",
   "metadata": {},
   "outputs": [
    {
     "data": {
      "text/plain": [
       "false"
      ]
     },
     "execution_count": 23,
     "metadata": {},
     "output_type": "execute_result"
    }
   ],
   "source": [
    "df01.is_empty()"
   ]
  },
  {
   "cell_type": "markdown",
   "id": "bc51994b",
   "metadata": {},
   "source": [
    "### Add/replace column\n",
    "\n",
    "The [DataFrame.with_column()](https://pola-rs.github.io/polars/polars/frame/struct.DataFrame.html#method.with_column) adds a new column or replace an existing one."
   ]
  },
  {
   "cell_type": "code",
   "execution_count": 136,
   "id": "897e1e8a",
   "metadata": {},
   "outputs": [
    {
     "name": "stdout",
     "output_type": "stream",
     "text": [
      "new column:\n",
      "shape: (4, 4)\n",
      "┌─────┬───────┬─────┬─────┐\n",
      "│ AAA ┆ BBB   ┆ CCC ┆ DDD │\n",
      "│ --- ┆ ---   ┆ --- ┆ --- │\n",
      "│ i32 ┆ str   ┆ f64 ┆ str │\n",
      "╞═════╪═══════╪═════╪═════╡\n",
      "│ 4   ┆ hello ┆ 1.1 ┆ d0  │\n",
      "│ 5   ┆ world ┆ 2.2 ┆ d1  │\n",
      "│ 6   ┆ !     ┆ 3.3 ┆ d2  │\n",
      "│ 7   ┆ null  ┆ 4.4 ┆ d3  │\n",
      "└─────┴───────┴─────┴─────┘\n",
      "\n",
      "replaced column:\n",
      "shape: (4, 4)\n",
      "┌─────┬───────┬─────┬─────┐\n",
      "│ AAA ┆ BBB   ┆ CCC ┆ DDD │\n",
      "│ --- ┆ ---   ┆ --- ┆ --- │\n",
      "│ i32 ┆ str   ┆ str ┆ str │\n",
      "╞═════╪═══════╪═════╪═════╡\n",
      "│ 4   ┆ hello ┆ c0  ┆ d0  │\n",
      "│ 5   ┆ world ┆ c1  ┆ d1  │\n",
      "│ 6   ┆ !     ┆ c2  ┆ d2  │\n",
      "│ 7   ┆ null  ┆ c3  ┆ d3  │\n",
      "└─────┴───────┴─────┴─────┘\n"
     ]
    },
    {
     "data": {
      "text/plain": [
       "()"
      ]
     },
     "execution_count": 136,
     "metadata": {},
     "output_type": "execute_result"
    }
   ],
   "source": [
    "{\n",
    "    let mut df = df01.clone();\n",
    "    let ddd = Series::new(\"DDD\", [\"d0\", \"d1\", \"d2\", \"d3\"]);\n",
    "    \n",
    "    // Add new column\n",
    "    df.with_column(ddd).unwrap();\n",
    "    println!(\"new column:\\n{}\", df);\n",
    "    \n",
    "    // Replace column\n",
    "    let ccc = Series::new(\"CCC\", [\"c0\", \"c1\", \"c2\", \"c3\"]);\n",
    "    df.with_column(ccc).unwrap();\n",
    "    println!(\"\\nreplaced column:\\n{}\", df);\n",
    "}"
   ]
  },
  {
   "cell_type": "markdown",
   "id": "36c26030",
   "metadata": {},
   "source": [
    "### Add/replace columns (lazy API)"
   ]
  },
  {
   "cell_type": "code",
   "execution_count": 138,
   "id": "c4631af9",
   "metadata": {},
   "outputs": [
    {
     "name": "stdout",
     "output_type": "stream",
     "text": [
      "before:\n",
      "shape: (4, 3)\n",
      "┌─────┬───────┬─────┐\n",
      "│ AAA ┆ BBB   ┆ CCC │\n",
      "│ --- ┆ ---   ┆ --- │\n",
      "│ i32 ┆ str   ┆ f64 │\n",
      "╞═════╪═══════╪═════╡\n",
      "│ 4   ┆ hello ┆ 1.1 │\n",
      "│ 5   ┆ world ┆ 2.2 │\n",
      "│ 6   ┆ !     ┆ 3.3 │\n",
      "│ 7   ┆ null  ┆ 4.4 │\n",
      "└─────┴───────┴─────┘\n",
      "\n",
      "after:\n",
      "shape: (4, 4)\n",
      "┌─────┬───────┬─────┬─────┐\n",
      "│ AAA ┆ BBB   ┆ CCC ┆ DDD │\n",
      "│ --- ┆ ---   ┆ --- ┆ --- │\n",
      "│ i32 ┆ str   ┆ str ┆ str │\n",
      "╞═════╪═══════╪═════╪═════╡\n",
      "│ 4   ┆ hello ┆ c0  ┆ d0  │\n",
      "│ 5   ┆ world ┆ c1  ┆ d1  │\n",
      "│ 6   ┆ !     ┆ c2  ┆ d2  │\n",
      "│ 7   ┆ null  ┆ c3  ┆ d3  │\n",
      "└─────┴───────┴─────┴─────┘\n"
     ]
    },
    {
     "data": {
      "text/plain": [
       "()"
      ]
     },
     "execution_count": 138,
     "metadata": {},
     "output_type": "execute_result"
    }
   ],
   "source": [
    "{\n",
    "    let mut df = df01.clone();\n",
    "    println!(\"before:\\n{}\\n\", df);\n",
    "    \n",
    "    let ccc = Series::new(\"CCC\", [\"c0\", \"c1\", \"c2\", \"c3\"]);\n",
    "    let ddd = Series::new(\"DDD\", [\"d0\", \"d1\", \"d2\", \"d3\"]);\n",
    "    \n",
    "    let new_df = df.lazy()\n",
    "                   .with_columns([ccc.lit(), ddd.lit()])\n",
    "                   .collect()\n",
    "                   .unwrap();\n",
    "        \n",
    "    println!(\"after:\\n{}\", new_df);\n",
    "}"
   ]
  },
  {
   "cell_type": "markdown",
   "id": "8585c255",
   "metadata": {},
   "source": [
    "### Rename column names"
   ]
  },
  {
   "cell_type": "code",
   "execution_count": 117,
   "id": "c4ee7600",
   "metadata": {},
   "outputs": [
    {
     "name": "stdout",
     "output_type": "stream",
     "text": [
      "old col names: [\"AAA\", \"BBB\", \"CCC\"]\n",
      "new col names: [\"new-AAA\", \"new-BBB\", \"new-CCC\"]\n"
     ]
    },
    {
     "data": {
      "text/plain": [
       "()"
      ]
     },
     "execution_count": 117,
     "metadata": {},
     "output_type": "execute_result"
    }
   ],
   "source": [
    "{\n",
    "    let mut df = df01.clone();\n",
    "    let cols = df.get_column_names_owned();\n",
    "    println!(\"old col names: {:?}\", cols);\n",
    "    \n",
    "    for col in cols {\n",
    "        let new_col = format!(\"new-{}\", col);\n",
    "        df.rename(&col, &new_col)?;\n",
    "    }\n",
    "    \n",
    "    println!(\"new col names: {:?}\", df.get_column_names());\n",
    "}"
   ]
  },
  {
   "cell_type": "markdown",
   "id": "ed53fd64",
   "metadata": {},
   "source": [
    "### Drop column"
   ]
  },
  {
   "cell_type": "code",
   "execution_count": 144,
   "id": "a8696c75",
   "metadata": {},
   "outputs": [
    {
     "name": "stdout",
     "output_type": "stream",
     "text": [
      "new_df:\n",
      "shape: (4, 2)\n",
      "┌───────┬─────┐\n",
      "│ BBB   ┆ CCC │\n",
      "│ ---   ┆ --- │\n",
      "│ str   ┆ f64 │\n",
      "╞═══════╪═════╡\n",
      "│ hello ┆ 1.1 │\n",
      "│ world ┆ 2.2 │\n",
      "│ !     ┆ 3.3 │\n",
      "│ null  ┆ 4.4 │\n",
      "└───────┴─────┘\n",
      "\n",
      "Original df unaffected:\n",
      "shape: (4, 3)\n",
      "┌─────┬───────┬─────┐\n",
      "│ AAA ┆ BBB   ┆ CCC │\n",
      "│ --- ┆ ---   ┆ --- │\n",
      "│ i32 ┆ str   ┆ f64 │\n",
      "╞═════╪═══════╪═════╡\n",
      "│ 4   ┆ hello ┆ 1.1 │\n",
      "│ 5   ┆ world ┆ 2.2 │\n",
      "│ 6   ┆ !     ┆ 3.3 │\n",
      "│ 7   ┆ null  ┆ 4.4 │\n",
      "└─────┴───────┴─────┘\n"
     ]
    }
   ],
   "source": [
    "{\n",
    "    let new_df = df01.drop(\"AAA\").unwrap();\n",
    "    println!(\"new_df:\\n{:?}\\n\", new_df);\n",
    "}\n",
    "\n",
    "println!(\"Original df unaffected:\\n{:?}\", df01);"
   ]
  },
  {
   "cell_type": "markdown",
   "id": "4d390bea",
   "metadata": {},
   "source": [
    "### Drop columns"
   ]
  },
  {
   "cell_type": "code",
   "execution_count": 131,
   "id": "4d651002",
   "metadata": {},
   "outputs": [
    {
     "name": "stdout",
     "output_type": "stream",
     "text": [
      "new_df:\n",
      "shape: (4, 1)\n",
      "┌─────┐\n",
      "│ CCC │\n",
      "│ --- │\n",
      "│ f64 │\n",
      "╞═════╡\n",
      "│ 1.1 │\n",
      "│ 2.2 │\n",
      "│ 3.3 │\n",
      "│ 4.4 │\n",
      "└─────┘\n",
      "\n",
      "Original df unaffected:\n",
      "shape: (4, 3)\n",
      "┌─────┬───────┬─────┐\n",
      "│ AAA ┆ BBB   ┆ CCC │\n",
      "│ --- ┆ ---   ┆ --- │\n",
      "│ i32 ┆ str   ┆ f64 │\n",
      "╞═════╪═══════╪═════╡\n",
      "│ 4   ┆ hello ┆ 1.1 │\n",
      "│ 5   ┆ world ┆ 2.2 │\n",
      "│ 6   ┆ !     ┆ 3.3 │\n",
      "│ 7   ┆ null  ┆ 4.4 │\n",
      "└─────┴───────┴─────┘\n"
     ]
    }
   ],
   "source": [
    "{\n",
    "    let cols = vec![\"AAA\", \"BBB\"];\n",
    "    let new_df = df01.drop_many(&cols);\n",
    "    println!(\"new_df:\\n{:?}\\n\", new_df);\n",
    "}\n",
    "\n",
    "println!(\"Original df unaffected:\\n{:?}\", df01);"
   ]
  },
  {
   "cell_type": "markdown",
   "id": "8d7fb620",
   "metadata": {},
   "source": [
    "### Drop column in place\n",
    "\n",
    "And return the removed column."
   ]
  },
  {
   "cell_type": "code",
   "execution_count": 111,
   "id": "a8c0f888",
   "metadata": {},
   "outputs": [
    {
     "name": "stdout",
     "output_type": "stream",
     "text": [
      "Original df after drop():\n",
      "shape: (4, 2)\n",
      "┌───────┬─────┐\n",
      "│ BBB   ┆ CCC │\n",
      "│ ---   ┆ --- │\n",
      "│ str   ┆ f64 │\n",
      "╞═══════╪═════╡\n",
      "│ hello ┆ 1.1 │\n",
      "│ world ┆ 2.2 │\n",
      "│ !     ┆ 3.3 │\n",
      "│ null  ┆ 4.4 │\n",
      "└───────┴─────┘\n",
      "\n"
     ]
    },
    {
     "data": {
      "text/plain": [
       "shape: (4,)\n",
       "Series: 'AAA' [i32]\n",
       "[\n",
       "\t4\n",
       "\t5\n",
       "\t6\n",
       "\t7\n",
       "]"
      ]
     },
     "execution_count": 111,
     "metadata": {},
     "output_type": "execute_result"
    }
   ],
   "source": [
    "{\n",
    "    let mut df = df01.clone();\n",
    "    let ser = df.drop_in_place(\"AAA\").unwrap();\n",
    "    \n",
    "    println!(\"Original df after drop():\\n{:?}\\n\", df);\n",
    "\n",
    "    ser\n",
    "}"
   ]
  },
  {
   "cell_type": "markdown",
   "id": "a2d994d0",
   "metadata": {},
   "source": [
    "## Input/Output"
   ]
  },
  {
   "cell_type": "markdown",
   "id": "82ec1f1d",
   "metadata": {},
   "source": [
    "### CSV\n",
    "\n",
    "Reference:\n",
    "\n",
    "- [CSV (Polars User Guide)](https://pola-rs.github.io/polars-book/user-guide/io/csv/)\n",
    "\n",
    "\n",
    "#### Writing to CSV"
   ]
  },
  {
   "cell_type": "code",
   "execution_count": 110,
   "id": "e6523364",
   "metadata": {},
   "outputs": [
    {
     "data": {
      "text/plain": [
       "()"
      ]
     },
     "execution_count": 110,
     "metadata": {},
     "output_type": "execute_result"
    }
   ],
   "source": [
    "{\n",
    "    let mut hout = std::fs::File::create(\"sample.csv\")\n",
    "                                 .expect(\"could not create file\");\n",
    "    let mut df = df01.clone();\n",
    "    CsvWriter::new(&mut hout).has_header(true)\n",
    "                             .with_delimiter(b',')\n",
    "                             .finish(&mut df)\n",
    "                             .expect(\"CSV write error\");\n",
    "}"
   ]
  },
  {
   "cell_type": "markdown",
   "id": "17348486",
   "metadata": {},
   "source": [
    "#### Reading from CSV"
   ]
  },
  {
   "cell_type": "code",
   "execution_count": 103,
   "id": "f95ca467",
   "metadata": {},
   "outputs": [
    {
     "name": "stdout",
     "output_type": "stream",
     "text": [
      "shape: (4, 3)\n",
      "┌─────┬───────┬─────┐\n",
      "│ AAA ┆ BBB   ┆ CCC │\n",
      "│ --- ┆ ---   ┆ --- │\n",
      "│ i64 ┆ str   ┆ f64 │\n",
      "╞═════╪═══════╪═════╡\n",
      "│ 4   ┆ hello ┆ 1.1 │\n",
      "│ 5   ┆ world ┆ 2.2 │\n",
      "│ 6   ┆ !     ┆ 3.3 │\n",
      "│ 7   ┆ null  ┆ 4.4 │\n",
      "└─────┴───────┴─────┘\n"
     ]
    },
    {
     "data": {
      "text/plain": [
       "()"
      ]
     },
     "execution_count": 103,
     "metadata": {},
     "output_type": "execute_result"
    }
   ],
   "source": [
    "{\n",
    "    let df = CsvReader::from_path(\"sample.csv\")\n",
    "                        .unwrap()\n",
    "                        .has_header(true)\n",
    "                        .finish()\n",
    "                        .unwrap();\n",
    "    println!(\"{}\", df);\n",
    "}"
   ]
  },
  {
   "cell_type": "markdown",
   "id": "e678fd67",
   "metadata": {},
   "source": [
    "#### Lazy reading CSV\n"
   ]
  },
  {
   "cell_type": "code",
   "execution_count": 104,
   "id": "e5fbeb30",
   "metadata": {},
   "outputs": [
    {
     "name": "stdout",
     "output_type": "stream",
     "text": [
      "shape: (4, 3)\n",
      "┌─────┬───────┬─────┐\n",
      "│ AAA ┆ BBB   ┆ CCC │\n",
      "│ --- ┆ ---   ┆ --- │\n",
      "│ i64 ┆ str   ┆ f64 │\n",
      "╞═════╪═══════╪═════╡\n",
      "│ 4   ┆ hello ┆ 1.1 │\n",
      "│ 5   ┆ world ┆ 2.2 │\n",
      "│ 6   ┆ !     ┆ 3.3 │\n",
      "│ 7   ┆ null  ┆ 4.4 │\n",
      "└─────┴───────┴─────┘\n"
     ]
    },
    {
     "data": {
      "text/plain": [
       "()"
      ]
     },
     "execution_count": 104,
     "metadata": {},
     "output_type": "execute_result"
    }
   ],
   "source": [
    "{\n",
    "    let lazy_df : LazyFrame = LazyCsvReader::new(\"sample.csv\")\n",
    "                       .finish()\n",
    "                       .unwrap();\n",
    "    \n",
    "    // .. do something with lazy_df\n",
    "    \n",
    "    let df = lazy_df\n",
    "                 .collect()\n",
    "                 .unwrap();\n",
    "    println!(\"{}\", df);\n",
    "}"
   ]
  },
  {
   "cell_type": "markdown",
   "id": "6637acdd",
   "metadata": {},
   "source": [
    "### Parquet\n",
    "\n",
    "**Note**: you must add feature `parquet` in Polars dependency.\n",
    "\n",
    "References:\n",
    "\n",
    "- [Parquet (Polars User Guide)](https://pola-rs.github.io/polars-book/user-guide/io/parquet/)"
   ]
  },
  {
   "cell_type": "markdown",
   "id": "8751a962",
   "metadata": {},
   "source": [
    "#### Write parquet"
   ]
  },
  {
   "cell_type": "code",
   "execution_count": 7,
   "id": "0846d203",
   "metadata": {},
   "outputs": [
    {
     "data": {
      "text/plain": [
       "()"
      ]
     },
     "execution_count": 7,
     "metadata": {},
     "output_type": "execute_result"
    }
   ],
   "source": [
    "{\n",
    "    let file = std::fs::File::create(\"sample.parquet\")\n",
    "                             .expect(\"could not create file\");\n",
    "    let mut df = df01.clone();\n",
    "    ParquetWriter::new(file)\n",
    "                  .finish(&mut df);\n",
    "}"
   ]
  },
  {
   "cell_type": "markdown",
   "id": "d2675264",
   "metadata": {},
   "source": [
    "#### Read parquet"
   ]
  },
  {
   "cell_type": "code",
   "execution_count": 8,
   "id": "bb15e0c2",
   "metadata": {},
   "outputs": [
    {
     "data": {
      "text/plain": [
       "shape: (4, 3)\n",
       "┌─────┬───────┬─────┐\n",
       "│ AAA ┆ BBB   ┆ CCC │\n",
       "│ --- ┆ ---   ┆ --- │\n",
       "│ i32 ┆ str   ┆ f64 │\n",
       "╞═════╪═══════╪═════╡\n",
       "│ 4   ┆ hello ┆ 1.1 │\n",
       "│ 5   ┆ world ┆ 2.2 │\n",
       "│ 6   ┆ !     ┆ 3.3 │\n",
       "│ 7   ┆ null  ┆ 4.4 │\n",
       "└─────┴───────┴─────┘"
      ]
     },
     "execution_count": 8,
     "metadata": {},
     "output_type": "execute_result"
    }
   ],
   "source": [
    "{\n",
    "    let mut file = std::fs::File::open(\"sample.parquet\").unwrap();\n",
    "\n",
    "    let df = ParquetReader::new(&mut file).finish().unwrap();\n",
    "    df\n",
    "}"
   ]
  },
  {
   "cell_type": "markdown",
   "id": "2bbdb8f0",
   "metadata": {},
   "source": [
    "#### Lazy reading parquet"
   ]
  },
  {
   "cell_type": "code",
   "execution_count": 9,
   "id": "1e7fef94",
   "metadata": {},
   "outputs": [
    {
     "name": "stdout",
     "output_type": "stream",
     "text": [
      "shape: (4, 3)\n",
      "┌─────┬───────┬─────┐\n",
      "│ AAA ┆ BBB   ┆ CCC │\n",
      "│ --- ┆ ---   ┆ --- │\n",
      "│ i32 ┆ str   ┆ f64 │\n",
      "╞═════╪═══════╪═════╡\n",
      "│ 4   ┆ hello ┆ 1.1 │\n",
      "│ 5   ┆ world ┆ 2.2 │\n",
      "│ 6   ┆ !     ┆ 3.3 │\n",
      "│ 7   ┆ null  ┆ 4.4 │\n",
      "└─────┴───────┴─────┘\n"
     ]
    },
    {
     "data": {
      "text/plain": [
       "shape: (4, 3)\n",
       "┌─────┬───────┬─────┐\n",
       "│ AAA ┆ BBB   ┆ CCC │\n",
       "│ --- ┆ ---   ┆ --- │\n",
       "│ i32 ┆ str   ┆ f64 │\n",
       "╞═════╪═══════╪═════╡\n",
       "│ 4   ┆ hello ┆ 1.1 │\n",
       "│ 5   ┆ world ┆ 2.2 │\n",
       "│ 6   ┆ !     ┆ 3.3 │\n",
       "│ 7   ┆ null  ┆ 4.4 │\n",
       "└─────┴───────┴─────┘"
      ]
     },
     "execution_count": 9,
     "metadata": {},
     "output_type": "execute_result"
    }
   ],
   "source": [
    "{\n",
    "    let args = ScanArgsParquet::default();\n",
    "    let lazy_df : LazyFrame = LazyFrame::scan_parquet(\"sample.parquet\", args)\n",
    "                                        .unwrap();\n",
    "\n",
    "    \n",
    "    // .. do something with lazy_df, collect() when done.\n",
    "    \n",
    "    let df = lazy_df\n",
    "                 .collect()\n",
    "                 .unwrap();\n",
    "    df\n",
    "}"
   ]
  },
  {
   "cell_type": "markdown",
   "id": "6b385e2c",
   "metadata": {},
   "source": [
    "## Display"
   ]
  },
  {
   "cell_type": "markdown",
   "id": "fc993077",
   "metadata": {},
   "source": [
    "### Controlling maximum number of rows/columns displayed\n",
    "\n",
    "See: [Config with ENV vars (Polars API reference)](https://pola-rs.github.io/polars/polars/index.html#config-with-env-vars)"
   ]
  },
  {
   "cell_type": "code",
   "execution_count": 235,
   "id": "45de41a3",
   "metadata": {},
   "outputs": [],
   "source": [
    "std::env::set_var(\"POLARS_FMT_MAX_ROWS\", \"20\"); // Set to -1 to show all\n",
    "std::env::set_var(\"POLARS_FMT_MAX_COLUMNS\", \"20\");"
   ]
  },
  {
   "cell_type": "markdown",
   "id": "5d2dbbe2",
   "metadata": {},
   "source": [
    "### head, tail"
   ]
  },
  {
   "cell_type": "code",
   "execution_count": 113,
   "id": "504c9d7d",
   "metadata": {},
   "outputs": [
    {
     "data": {
      "text/plain": [
       "shape: (2, 3)\n",
       "┌─────┬───────┬─────┐\n",
       "│ AAA ┆ BBB   ┆ CCC │\n",
       "│ --- ┆ ---   ┆ --- │\n",
       "│ i32 ┆ str   ┆ f64 │\n",
       "╞═════╪═══════╪═════╡\n",
       "│ 4   ┆ hello ┆ 1.1 │\n",
       "│ 5   ┆ world ┆ 2.2 │\n",
       "└─────┴───────┴─────┘"
      ]
     },
     "execution_count": 113,
     "metadata": {},
     "output_type": "execute_result"
    }
   ],
   "source": [
    "df01.head(Some(2))"
   ]
  },
  {
   "cell_type": "code",
   "execution_count": 114,
   "id": "386cdd5c",
   "metadata": {},
   "outputs": [
    {
     "data": {
      "text/plain": [
       "shape: (2, 3)\n",
       "┌─────┬──────┬─────┐\n",
       "│ AAA ┆ BBB  ┆ CCC │\n",
       "│ --- ┆ ---  ┆ --- │\n",
       "│ i32 ┆ str  ┆ f64 │\n",
       "╞═════╪══════╪═════╡\n",
       "│ 6   ┆ !    ┆ 3.3 │\n",
       "│ 7   ┆ null ┆ 4.4 │\n",
       "└─────┴──────┴─────┘"
      ]
     },
     "execution_count": 114,
     "metadata": {},
     "output_type": "execute_result"
    }
   ],
   "source": [
    "df01.tail(Some(2))"
   ]
  },
  {
   "cell_type": "markdown",
   "id": "f907e3aa",
   "metadata": {},
   "source": [
    "## Select (Eager API)"
   ]
  },
  {
   "cell_type": "markdown",
   "id": "b88bfd55",
   "metadata": {},
   "source": [
    "### Get item at row/column index\n",
    "\n",
    "The Rust interface doesn't have *Series.item()* method like in the Python API, so this is how to do it AFAIK.\n",
    "\n",
    "References:\n",
    "\n",
    "- [AnyValue enum (Polars API reference)](https://pola-rs.github.io/polars/polars/datatypes/enum.AnyValue.html)"
   ]
  },
  {
   "cell_type": "code",
   "execution_count": 121,
   "id": "02c4fd08",
   "metadata": {},
   "outputs": [
    {
     "data": {
      "text/plain": [
       "\"!\""
      ]
     },
     "execution_count": 121,
     "metadata": {},
     "output_type": "execute_result"
    }
   ],
   "source": [
    "{\n",
    "    let col: usize = 1;\n",
    "    let row: usize = 2;\n",
    "    \n",
    "    // Get the Series for the column\n",
    "    let ser = &df01[col];\n",
    "    \n",
    "    // Explicitly typecast to get ChunkedArray with i16(), i32(), f32(), utf8(), etc.\n",
    "    let ca = ser.utf8().unwrap();  \n",
    "    \n",
    "    // Get the item from ChunkedArray. val is AnyValue<T>\n",
    "    let val = ca.get_any_value(row).unwrap();\n",
    "\n",
    "    // Extract string from val, and clone to return the value\n",
    "    let s = String::from( val.get_str().unwrap() );\n",
    "    \n",
    "    s\n",
    "}"
   ]
  },
  {
   "cell_type": "markdown",
   "id": "503d57f2",
   "metadata": {},
   "source": [
    "### Getting a column\n",
    "\n",
    "#### By the name"
   ]
  },
  {
   "cell_type": "code",
   "execution_count": 109,
   "id": "3fd259b9",
   "metadata": {},
   "outputs": [
    {
     "data": {
      "text/plain": [
       "shape: (4,)\n",
       "Series: 'AAA' [i32]\n",
       "[\n",
       "\t4\n",
       "\t5\n",
       "\t6\n",
       "\t7\n",
       "]"
      ]
     },
     "execution_count": 109,
     "metadata": {},
     "output_type": "execute_result"
    }
   ],
   "source": [
    "df01.column(\"AAA\").unwrap()"
   ]
  },
  {
   "cell_type": "markdown",
   "id": "dbfe82b3",
   "metadata": {},
   "source": [
    "#### By the index"
   ]
  },
  {
   "cell_type": "code",
   "execution_count": 107,
   "id": "8491d9d1",
   "metadata": {},
   "outputs": [
    {
     "data": {
      "text/plain": [
       "shape: (4,)\n",
       "Series: 'AAA' [i32]\n",
       "[\n",
       "\t4\n",
       "\t5\n",
       "\t6\n",
       "\t7\n",
       "]"
      ]
     },
     "execution_count": 107,
     "metadata": {},
     "output_type": "execute_result"
    }
   ],
   "source": [
    "&df01[0]"
   ]
  },
  {
   "cell_type": "markdown",
   "id": "44333b11",
   "metadata": {},
   "source": [
    "### Select multiple columns"
   ]
  },
  {
   "cell_type": "code",
   "execution_count": 200,
   "id": "098883c5",
   "metadata": {},
   "outputs": [
    {
     "data": {
      "text/plain": [
       "shape: (4, 2)\n",
       "┌─────┬─────┐\n",
       "│ AAA ┆ CCC │\n",
       "│ --- ┆ --- │\n",
       "│ i32 ┆ f64 │\n",
       "╞═════╪═════╡\n",
       "│ 4   ┆ 1.1 │\n",
       "│ 5   ┆ 2.2 │\n",
       "│ 6   ┆ 3.3 │\n",
       "│ 7   ┆ 4.4 │\n",
       "└─────┴─────┘"
      ]
     },
     "execution_count": 200,
     "metadata": {},
     "output_type": "execute_result"
    }
   ],
   "source": [
    "{\n",
    "    let df = df01.clone();\n",
    "\n",
    "    df.select([\"AAA\", \"CCC\"])\n",
    "       .unwrap()\n",
    "}"
   ]
  },
  {
   "cell_type": "markdown",
   "id": "de7efc2b",
   "metadata": {},
   "source": [
    "### DataFrame Aggregation\n",
    "\n",
    "For more DataFrame aggregation methods, see:\n",
    "\n",
    "- [DataFrame aggregation (Python API Reference)](https://pola-rs.github.io/polars/py-polars/html/reference/dataframe/aggregation.html)"
   ]
  },
  {
   "cell_type": "code",
   "execution_count": 113,
   "id": "5a3316dd",
   "metadata": {},
   "outputs": [
    {
     "data": {
      "text/plain": [
       "shape: (1, 3)\n",
       "┌─────┬───────┬─────┐\n",
       "│ AAA ┆ BBB   ┆ CCC │\n",
       "│ --- ┆ ---   ┆ --- │\n",
       "│ i32 ┆ str   ┆ f64 │\n",
       "╞═════╪═══════╪═════╡\n",
       "│ 7   ┆ world ┆ 4.4 │\n",
       "└─────┴───────┴─────┘"
      ]
     },
     "execution_count": 113,
     "metadata": {},
     "output_type": "execute_result"
    }
   ],
   "source": [
    "df01.max()"
   ]
  },
  {
   "cell_type": "markdown",
   "id": "f4009b5f",
   "metadata": {},
   "source": [
    "### Eager arithmetic\n",
    "\n",
    "References:\n",
    "\n",
    "- [Arithmetic (Polars API reference)](https://pola-rs.github.io/polars/polars/docs/eager/index.html#arithmetic)\n",
    "\n",
    "Tips: the lazy API provides more powerful expression (see next section)."
   ]
  },
  {
   "cell_type": "code",
   "execution_count": 244,
   "id": "7247330e",
   "metadata": {},
   "outputs": [
    {
     "data": {
      "text/plain": [
       "shape: (3, 8)\n",
       "┌───────┬─────┬─────┬─────┬─────┬─────┬──────┬──────┐\n",
       "│ s_int ┆ add ┆ sub ┆ mul ┆ div ┆ mod ┆ 30/s ┆ 10-s │\n",
       "│ ---   ┆ --- ┆ --- ┆ --- ┆ --- ┆ --- ┆ ---  ┆ ---  │\n",
       "│ i32   ┆ f64 ┆ f64 ┆ f64 ┆ f64 ┆ f64 ┆ i32  ┆ i32  │\n",
       "╞═══════╪═════╪═════╪═════╪═════╪═════╪══════╪══════╡\n",
       "│ 1     ┆ 2.0 ┆ 0.0 ┆ 1.0 ┆ 1.0 ┆ 0.0 ┆ 30   ┆ 9    │\n",
       "│ 2     ┆ 4.0 ┆ 0.0 ┆ 4.0 ┆ 1.0 ┆ 0.0 ┆ 15   ┆ 8    │\n",
       "│ 3     ┆ 6.0 ┆ 0.0 ┆ 9.0 ┆ 1.0 ┆ 0.0 ┆ 10   ┆ 7    │\n",
       "└───────┴─────┴─────┴─────┴─────┴─────┴──────┴──────┘"
      ]
     },
     "execution_count": 244,
     "metadata": {},
     "output_type": "execute_result"
    }
   ],
   "source": [
    "{\n",
    "    let s_int = Series::new(\"s_int\", &[1,   2,   3]);\n",
    "    let s_flt = Series::new(\"s_flt\", &[1.0, 2.0, 3.0]);\n",
    "\n",
    "    DataFrame::new(vec![\n",
    "        s_int.clone(),\n",
    "        \n",
    "        Series::new(\"add\",  &s_int + &s_flt),\n",
    "        Series::new(\"sub\",  &s_int - &s_flt),\n",
    "        Series::new(\"mul\",  &s_int * &s_flt),\n",
    "        Series::new(\"div\",  &s_int / &s_flt),\n",
    "        Series::new(\"mod\",  &s_int % &s_flt),\n",
    "        \n",
    "        // Left side operations\n",
    "        Series::new(\"30/s\", 30.div(&s_int)),\n",
    "        Series::new(\"10-s\", 10.sub(&s_int)),\n",
    "    ])?\n",
    "}"
   ]
  },
  {
   "cell_type": "markdown",
   "id": "ea6fc8e3",
   "metadata": {},
   "source": [
    "## Select (lazy API)\n",
    "\n",
    "### LazyFrame select\n",
    "\n",
    "Use [LazyFrame::select()](https://docs.rs/polars/latest/polars/prelude/struct.LazyFrame.html#method.select) method. Columns can be selected with [**col**](https://docs.rs/polars/latest/polars/prelude/fn.col.html). Use `col(\"*\")` to select all columns. You can also select columns [by regular expression](https://pola-rs.github.io/polars-book/user-guide/expressions/column_selections/#by-regular-expressions)."
   ]
  },
  {
   "cell_type": "code",
   "execution_count": 21,
   "id": "7e7970b0",
   "metadata": {},
   "outputs": [
    {
     "data": {
      "text/plain": [
       "shape: (4, 3)\n",
       "┌─────┬───────┬─────┐\n",
       "│ AAA ┆ BBB   ┆ CCC │\n",
       "│ --- ┆ ---   ┆ --- │\n",
       "│ i32 ┆ str   ┆ f64 │\n",
       "╞═════╪═══════╪═════╡\n",
       "│ 4   ┆ hello ┆ 1.1 │\n",
       "│ 5   ┆ world ┆ 2.2 │\n",
       "│ 6   ┆ !     ┆ 3.3 │\n",
       "│ 7   ┆ null  ┆ 4.4 │\n",
       "└─────┴───────┴─────┘"
      ]
     },
     "execution_count": 21,
     "metadata": {},
     "output_type": "execute_result"
    }
   ],
   "source": [
    "{\n",
    "    let df = df01.clone();\n",
    "    \n",
    "    df.lazy()\n",
    "      .select([\n",
    "          col(\"AAA\"),\n",
    "          col(\"BBB\"),\n",
    "          col(\"CCC\"),\n",
    "      ])\n",
    "      .collect()\n",
    "      .unwrap()\n",
    "}"
   ]
  },
  {
   "cell_type": "markdown",
   "id": "c269037e",
   "metadata": {},
   "source": [
    "### Select expression\n",
    "\n",
    "Columns can be built independently with expressions inside the select construct."
   ]
  },
  {
   "cell_type": "code",
   "execution_count": 23,
   "id": "752948d3",
   "metadata": {},
   "outputs": [
    {
     "data": {
      "text/plain": [
       "shape: (4, 4)\n",
       "┌─────┬───────┬─────────┬──────┐\n",
       "│ AAA ┆ BBB   ┆ first B ┆ 10xC │\n",
       "│ --- ┆ ---   ┆ ---     ┆ ---  │\n",
       "│ i32 ┆ str   ┆ str     ┆ f64  │\n",
       "╞═════╪═══════╪═════════╪══════╡\n",
       "│ 4   ┆ null  ┆ hello   ┆ 11.0 │\n",
       "│ 5   ┆ !     ┆ hello   ┆ 22.0 │\n",
       "│ 6   ┆ hello ┆ hello   ┆ 33.0 │\n",
       "│ 7   ┆ world ┆ hello   ┆ 44.0 │\n",
       "└─────┴───────┴─────────┴──────┘"
      ]
     },
     "execution_count": 23,
     "metadata": {},
     "output_type": "execute_result"
    }
   ],
   "source": [
    "{\n",
    "    let df = df01.clone();\n",
    "    \n",
    "    df.lazy()\n",
    "      .select([\n",
    "          col(\"AAA\"),\n",
    "          col(\"BBB\").sort(false),\n",
    "          col(\"BBB\").first().alias(\"first B\"),\n",
    "          (col(\"CCC\") * lit(10)).alias(\"10xC\"),\n",
    "      ])\n",
    "      .collect()\n",
    "      .unwrap()\n",
    "}    \n"
   ]
  },
  {
   "cell_type": "markdown",
   "id": "1ff51eba",
   "metadata": {},
   "source": [
    "### Select with `with_columns`\n",
    "\n",
    "[LazyFrame::with_columns()](https://docs.rs/polars/latest/polars/prelude/struct.LazyFrame.html#method.with_columns) is similar to select(). The main difference is that `with_columns` retains the original columns and adds new ones while select drops the original columns."
   ]
  },
  {
   "cell_type": "code",
   "execution_count": 26,
   "id": "c398481f",
   "metadata": {},
   "outputs": [
    {
     "data": {
      "text/plain": [
       "shape: (4, 5)\n",
       "┌─────┬───────┬─────┬────────────┬────────────┐\n",
       "│ AAA ┆ BBB   ┆ CCC ┆ sorted-AAA ┆ sorted-BBB │\n",
       "│ --- ┆ ---   ┆ --- ┆ ---        ┆ ---        │\n",
       "│ i32 ┆ str   ┆ f64 ┆ i32        ┆ str        │\n",
       "╞═════╪═══════╪═════╪════════════╪════════════╡\n",
       "│ 4   ┆ hello ┆ 1.1 ┆ 7          ┆ null       │\n",
       "│ 5   ┆ world ┆ 2.2 ┆ 6          ┆ !          │\n",
       "│ 6   ┆ !     ┆ 3.3 ┆ 5          ┆ hello      │\n",
       "│ 7   ┆ null  ┆ 4.4 ┆ 4          ┆ world      │\n",
       "└─────┴───────┴─────┴────────────┴────────────┘"
      ]
     },
     "execution_count": 26,
     "metadata": {},
     "output_type": "execute_result"
    }
   ],
   "source": [
    "{\n",
    "    let df = df01.clone();\n",
    "    \n",
    "    df.lazy()\n",
    "      .with_columns([\n",
    "          col(\"AAA\").sort(true).alias(\"sorted-AAA\"),\n",
    "          col(\"BBB\").sort(false).alias(\"sorted-BBB\"),\n",
    "      ])\n",
    "      .collect()\n",
    "      .unwrap()\n",
    "}    \n"
   ]
  },
  {
   "cell_type": "markdown",
   "id": "a7463bf7",
   "metadata": {},
   "source": [
    "## Iterating rows\n",
    "\n",
    "- https://stackoverflow.com/questions/72440403/iterate-over-rows-polars-rust?rq=3"
   ]
  },
  {
   "cell_type": "code",
   "execution_count": null,
   "id": "368361f5",
   "metadata": {},
   "outputs": [],
   "source": [
    "{\n",
    "    let df = df01.clone();\n",
    "    \n",
    "    let rows = df.iter_rows();\n",
    "    for row in rows {\n",
    "        println!(\"{}\", row);\n",
    "    }\n",
    "}"
   ]
  },
  {
   "cell_type": "markdown",
   "id": "d70f5f03",
   "metadata": {},
   "source": [
    "Method #2:"
   ]
  },
  {
   "cell_type": "code",
   "execution_count": 69,
   "id": "868bf1ec",
   "metadata": {},
   "outputs": [
    {
     "data": {
      "text/plain": [
       "4"
      ]
     },
     "execution_count": 69,
     "metadata": {},
     "output_type": "execute_result"
    }
   ],
   "source": [
    "{\n",
    "    let df = df01.clone();\n",
    "    \n",
    "    // \"row_count_df\" is dataframe with 1 row/column, containing the row count\n",
    "    let row_count_df = df.lazy()\n",
    "                         .select([\n",
    "                             count()\n",
    "                          ])\n",
    "                         .collect()\n",
    "                         .unwrap();\n",
    "    \n",
    "    let row_count = match row_count_df[0].sum::<i64>() {\n",
    "        Some(val) => val,\n",
    "        _ => 0 as i64\n",
    "    };\n",
    "    \n",
    "    row_count\n",
    "}"
   ]
  },
  {
   "cell_type": "markdown",
   "id": "3c396e64",
   "metadata": {},
   "source": [
    "Method #3:"
   ]
  },
  {
   "cell_type": "code",
   "execution_count": 71,
   "id": "2306234b",
   "metadata": {},
   "outputs": [
    {
     "data": {
      "text/plain": [
       "4"
      ]
     },
     "execution_count": 71,
     "metadata": {},
     "output_type": "execute_result"
    }
   ],
   "source": [
    "{\n",
    "    let df = df01.clone();\n",
    "    \n",
    "    // \"row_count_df\" is dataframe with 1 row/column, containing the row count\n",
    "    let row_count_df = df.lazy()\n",
    "                         .select([\n",
    "                             count()\n",
    "                          ])\n",
    "                         .collect()\n",
    "                         .unwrap();\n",
    "    \n",
    "    let row_count = row_count_df[0]  // 1st column\n",
    "                        .u32()       // unpack to Result< ChunkedArray<u32> >\n",
    "                        .unwrap()    // etc..\n",
    "                        .get(0)\n",
    "                        .unwrap();\n",
    "    \n",
    "    row_count\n",
    "}"
   ]
  },
  {
   "cell_type": "markdown",
   "id": "021afb15",
   "metadata": {},
   "source": [
    "## Filter (Eager API)\n",
    "\n",
    "References:\n",
    "\n",
    "- [Comparisons (Eager API cookbook)](https://pola-rs.github.io/polars/polars/docs/eager/index.html#comparisons)\n",
    "- [Series methods (Polars API reference)](https://pola-rs.github.io/polars/polars/series/struct.Series.html#method.is_not_nan)"
   ]
  },
  {
   "cell_type": "markdown",
   "id": "9d9b9002",
   "metadata": {},
   "source": [
    "### Creating mask\n"
   ]
  },
  {
   "cell_type": "code",
   "execution_count": 207,
   "id": "045af3ef",
   "metadata": {},
   "outputs": [
    {
     "name": "stdout",
     "output_type": "stream",
     "text": [
      "AAA:\n",
      "shape: (4,)\n",
      "Series: 'AAA' [i32]\n",
      "[\n",
      "\t4\n",
      "\t5\n",
      "\t6\n",
      "\t7\n",
      "]\n",
      "\n",
      "Sample masks:\n"
     ]
    },
    {
     "data": {
      "text/plain": [
       "shape: (4, 7)\n",
       "┌──────────┬──────────────┬───────┬──────────┬───────┬──────────┬───────┐\n",
       "│ equal(5) ┆ not_equal(5) ┆ lt(5) ┆ lt_eq(5) ┆ gt(5) ┆ gt_eq(5) ┆ user  │\n",
       "│ ---      ┆ ---          ┆ ---   ┆ ---      ┆ ---   ┆ ---      ┆ ---   │\n",
       "│ bool     ┆ bool         ┆ bool  ┆ bool     ┆ bool  ┆ bool     ┆ bool  │\n",
       "╞══════════╪══════════════╪═══════╪══════════╪═══════╪══════════╪═══════╡\n",
       "│ false    ┆ true         ┆ true  ┆ true     ┆ false ┆ false    ┆ false │\n",
       "│ true     ┆ false        ┆ false ┆ true     ┆ false ┆ true     ┆ false │\n",
       "│ false    ┆ true         ┆ false ┆ false    ┆ true  ┆ true     ┆ false │\n",
       "│ false    ┆ true         ┆ false ┆ false    ┆ true  ┆ true     ┆ true  │\n",
       "└──────────┴──────────────┴───────┴──────────┴───────┴──────────┴───────┘"
      ]
     },
     "execution_count": 207,
     "metadata": {},
     "output_type": "execute_result"
    }
   ],
   "source": [
    "{\n",
    "    let aaa = df01.column(\"AAA\")?;\n",
    "    println!(\"AAA:\\n{:?}\\n\", aaa);\n",
    "    \n",
    "    let mask_vec = vec![\n",
    "        Series::new(\"equal(5)\",     aaa.equal(5)? ),\n",
    "        Series::new(\"not_equal(5)\", aaa.not_equal(5)? ),\n",
    "        Series::new(\"lt(5)\",        aaa.lt(5)? ),\n",
    "        Series::new(\"lt_eq(5)\",     aaa.lt_eq(5)? ),\n",
    "        Series::new(\"gt(5)\",        aaa.gt(5)? ),\n",
    "        Series::new(\"gt_eq(5)\",     aaa.gt_eq(5)? ),\n",
    "        \n",
    "        // User defined\n",
    "        Series::new(\"user\",         vec![false, false, false, true] ),\n",
    "    ];\n",
    "    \n",
    "    println!(\"Sample masks:\");\n",
    "    \n",
    "    DataFrame::new(mask_vec).unwrap()\n",
    "}"
   ]
  },
  {
   "cell_type": "markdown",
   "id": "763ca8a0",
   "metadata": {},
   "source": [
    "### Filter Series using mask"
   ]
  },
  {
   "cell_type": "code",
   "execution_count": 197,
   "id": "ad976388",
   "metadata": {},
   "outputs": [
    {
     "name": "stdout",
     "output_type": "stream",
     "text": [
      "mask:\n",
      "shape: (4,)\n",
      "ChunkedArray: 'AAA' [bool]\n",
      "[\n",
      "\tfalse\n",
      "\ttrue\n",
      "\tfalse\n",
      "\tfalse\n",
      "]\n",
      "\n"
     ]
    },
    {
     "data": {
      "text/plain": [
       "shape: (1,)\n",
       "Series: 'BBB' [str]\n",
       "[\n",
       "\t\"world\"\n",
       "]"
      ]
     },
     "execution_count": 197,
     "metadata": {},
     "output_type": "execute_result"
    }
   ],
   "source": [
    "{\n",
    "    let aaa = df01.column(\"AAA\")?;\n",
    "    \n",
    "    let mask = aaa.equal(5).unwrap();\n",
    "    println!(\"mask:\\n{:?}\\n\", mask);\n",
    "    \n",
    "    df01.column(\"BBB\")?\n",
    "        .filter(&mask)\n",
    "        .unwrap()\n",
    "}"
   ]
  },
  {
   "cell_type": "markdown",
   "id": "a2a3b272",
   "metadata": {},
   "source": [
    "### Filter DataFrame using mask"
   ]
  },
  {
   "cell_type": "code",
   "execution_count": 198,
   "id": "88ad2d46",
   "metadata": {},
   "outputs": [
    {
     "name": "stdout",
     "output_type": "stream",
     "text": [
      "mask:\n",
      "shape: (4,)\n",
      "ChunkedArray: 'AAA' [bool]\n",
      "[\n",
      "\tfalse\n",
      "\ttrue\n",
      "\tfalse\n",
      "\tfalse\n",
      "]\n",
      "\n"
     ]
    },
    {
     "data": {
      "text/plain": [
       "shape: (1, 3)\n",
       "┌─────┬───────┬─────┐\n",
       "│ AAA ┆ BBB   ┆ CCC │\n",
       "│ --- ┆ ---   ┆ --- │\n",
       "│ i32 ┆ str   ┆ f64 │\n",
       "╞═════╪═══════╪═════╡\n",
       "│ 5   ┆ world ┆ 2.2 │\n",
       "└─────┴───────┴─────┘"
      ]
     },
     "execution_count": 198,
     "metadata": {},
     "output_type": "execute_result"
    }
   ],
   "source": [
    "{\n",
    "    let aaa = df01.column(\"AAA\")?;\n",
    "    \n",
    "    let mask = aaa.equal(5).unwrap();\n",
    "    println!(\"mask:\\n{:?}\\n\", mask);\n",
    "    \n",
    "    df01.filter(&mask)\n",
    "        .unwrap()\n",
    "}"
   ]
  },
  {
   "cell_type": "markdown",
   "id": "51b880a1",
   "metadata": {},
   "source": [
    "### DataFrame mask from multiple columns"
   ]
  },
  {
   "cell_type": "markdown",
   "id": "3c3725ef",
   "metadata": {},
   "source": [
    "TBD"
   ]
  },
  {
   "cell_type": "markdown",
   "id": "45348477",
   "metadata": {},
   "source": [
    "## Filter (Lazy API)"
   ]
  },
  {
   "cell_type": "code",
   "execution_count": 27,
   "id": "836291f2",
   "metadata": {},
   "outputs": [
    {
     "data": {
      "text/plain": [
       "shape: (1, 2)\n",
       "┌─────┬─────┐\n",
       "│ a   ┆ b   │\n",
       "│ --- ┆ --- │\n",
       "│ i32 ┆ str │\n",
       "╞═════╪═════╡\n",
       "│ 3   ┆ b   │\n",
       "└─────┴─────┘"
      ]
     },
     "execution_count": 27,
     "metadata": {},
     "output_type": "execute_result"
    }
   ],
   "source": [
    "{\n",
    "    let df = df![\n",
    "        \"a\" => [1, 2, 3],\n",
    "        \"b\" => [None, Some(\"a\"), Some(\"b\")]\n",
    "    ]?;\n",
    "\n",
    "    df.lazy()\n",
    "        .filter(col(\"a\").gt(lit(2)))\n",
    "        .collect()?\n",
    "}"
   ]
  },
  {
   "cell_type": "markdown",
   "id": "2a1cbbd5",
   "metadata": {},
   "source": [
    "## Apply functions/closures (Eager API)\n",
    "\n",
    "References:\n",
    "\n",
    "- [apply (Eager API cookbook)](https://pola-rs.github.io/polars/polars/docs/eager/index.html#apply-functions-closures)"
   ]
  },
  {
   "cell_type": "markdown",
   "id": "fd6129d2",
   "metadata": {},
   "source": [
    "### Series / ChunkedArrays apply"
   ]
  },
  {
   "cell_type": "code",
   "execution_count": 253,
   "id": "8ce7848d",
   "metadata": {},
   "outputs": [
    {
     "name": "stdout",
     "output_type": "stream",
     "text": [
      "shape: (3,)\n",
      "Series: 'foo' [i32]\n",
      "[\n",
      "\t1\n",
      "\t2\n",
      "\tnull\n",
      "]\n",
      "shape: (3,)\n",
      "ChunkedArray: 'new_foo' [i32]\n",
      "[\n",
      "\t20\n",
      "\t40\n",
      "\tnull\n",
      "]\n"
     ]
    },
    {
     "data": {
      "text/plain": [
       "shape: (3,)\n",
       "Series: 'new_foo' [i32]\n",
       "[\n",
       "\t20\n",
       "\t40\n",
       "\tnull\n",
       "]"
      ]
     },
     "execution_count": 253,
     "metadata": {},
     "output_type": "execute_result"
    }
   ],
   "source": [
    "{\n",
    "    let foo = Series::new(\"foo\", &[Some(1), Some(2), None]);\n",
    "    \n",
    "    // apply a closure over all values\n",
    "    let mut new_foo = foo.i32()?.apply(|value| value * 20);\n",
    "    new_foo.rename(\"new_foo\");\n",
    "    \n",
    "    println!(\"{}\", foo);\n",
    "    \n",
    "    // Notice the type is ChunkedArray\n",
    "    println!(\"{:?}\", new_foo);\n",
    "    \n",
    "    // If you want Series:\n",
    "    Series::new(\"new_foo\", new_foo)\n",
    "}"
   ]
  },
  {
   "cell_type": "markdown",
   "id": "2cd8fa4a",
   "metadata": {},
   "source": [
    "### Series apply and change type"
   ]
  },
  {
   "cell_type": "code",
   "execution_count": 255,
   "id": "b89e5515",
   "metadata": {},
   "outputs": [
    {
     "data": {
      "text/plain": [
       "shape: (3,)\n",
       "ChunkedArray: 'foo' [u64]\n",
       "[\n",
       "\t3\n",
       "\t3\n",
       "\t6\n",
       "]"
      ]
     },
     "execution_count": 255,
     "metadata": {},
     "output_type": "execute_result"
    }
   ],
   "source": [
    "{\n",
    "    let s = Series::new(\"foo\", &[\"foo\", \"bar\", \"foobar\"]);\n",
    "    \n",
    "    // count string lengths\n",
    "    let len_s = s.utf8()?.apply_cast_numeric::<_, UInt64Type>(|str_val| str_val.len() as u64);\n",
    "    \n",
    "    // this is ChunkedArray\n",
    "    len_s\n",
    "}"
   ]
  },
  {
   "cell_type": "markdown",
   "id": "f8feee38",
   "metadata": {},
   "source": [
    "### DataFrame apply"
   ]
  },
  {
   "cell_type": "code",
   "execution_count": 259,
   "id": "34f8da50",
   "metadata": {},
   "outputs": [
    {
     "name": "stdout",
     "output_type": "stream",
     "text": [
      "Original df:\n",
      "shape: (4, 2)\n",
      "┌─────────┬─────────┐\n",
      "│ letters ┆ numbers │\n",
      "│ ---     ┆ ---     │\n",
      "│ str     ┆ i32     │\n",
      "╞═════════╪═════════╡\n",
      "│ a       ┆ 1       │\n",
      "│ b       ┆ 2       │\n",
      "│ c       ┆ 3       │\n",
      "│ d       ┆ 4       │\n",
      "└─────────┴─────────┘\n",
      "\n"
     ]
    },
    {
     "data": {
      "text/plain": [
       "shape: (4, 2)\n",
       "┌─────────┬─────────┐\n",
       "│ letters ┆ numbers │\n",
       "│ ---     ┆ ---     │\n",
       "│ str     ┆ f64     │\n",
       "╞═════════╪═════════╡\n",
       "│ A       ┆ 1.0     │\n",
       "│ B       ┆ 2.0     │\n",
       "│ C       ┆ 3.0     │\n",
       "│ D       ┆ 4.0     │\n",
       "└─────────┴─────────┘"
      ]
     },
     "execution_count": 259,
     "metadata": {},
     "output_type": "execute_result"
    }
   ],
   "source": [
    "{\n",
    "    let mut df = df![\n",
    "        \"letters\" => [\"a\", \"b\", \"c\", \"d\"],\n",
    "        \"numbers\" => [1, 2, 3, 4]\n",
    "    ]?;\n",
    "\n",
    "    println!(\"Original df:\\n{}\\n\", df);\n",
    "\n",
    "    // coerce numbers to floats\n",
    "    df.try_apply(\"numbers\", |s: &Series| {\n",
    "        s.cast(&DataType::Float64)\n",
    "    })?;\n",
    "\n",
    "    // transform letters to uppercase letters\n",
    "    df.try_apply(\"letters\", |s: &Series| {\n",
    "        Ok(s.utf8()?.to_uppercase())\n",
    "    })?;\n",
    " \n",
    "    df\n",
    "}"
   ]
  },
  {
   "cell_type": "markdown",
   "id": "fe424e79",
   "metadata": {},
   "source": [
    "## Sorting (Eager API)"
   ]
  },
  {
   "cell_type": "markdown",
   "id": "c211b8d5",
   "metadata": {},
   "source": [
    "### Sorting DataFrame\n",
    "\n",
    "With basic [DataFrame::sort()](https://pola-rs.github.io/polars/polars/frame/struct.DataFrame.html#method.sort) method. \n",
    "\n",
    "Note: it returns new DataFrame."
   ]
  },
  {
   "cell_type": "code",
   "execution_count": 12,
   "id": "7040ee36",
   "metadata": {},
   "outputs": [
    {
     "name": "stdout",
     "output_type": "stream",
     "text": [
      "Original df:\n",
      "shape: (3, 2)\n",
      "┌─────┬─────┐\n",
      "│ A   ┆ B   │\n",
      "│ --- ┆ --- │\n",
      "│ i32 ┆ str │\n",
      "╞═════╪═════╡\n",
      "│ 1   ┆ b   │\n",
      "│ 2   ┆ a   │\n",
      "│ 3   ┆ c   │\n",
      "└─────┴─────┘\n"
     ]
    },
    {
     "data": {
      "text/plain": [
       "shape: (3, 2)\n",
       "┌─────┬─────┐\n",
       "│ A   ┆ B   │\n",
       "│ --- ┆ --- │\n",
       "│ i32 ┆ str │\n",
       "╞═════╪═════╡\n",
       "│ 3   ┆ c   │\n",
       "│ 1   ┆ b   │\n",
       "│ 2   ┆ a   │\n",
       "└─────┴─────┘"
      ]
     },
     "execution_count": 12,
     "metadata": {},
     "output_type": "execute_result"
    }
   ],
   "source": [
    "{\n",
    "    let df = df![\n",
    "        \"A\" => [1, 2, 3],\n",
    "        \"B\" => [\"b\", \"a\", \"c\"]\n",
    "    ]?;\n",
    "\n",
    "    let by = &[\"B\", \"A\"];\n",
    "    let descending = vec![true, false];\n",
    "\n",
    "    let sorted_df = df.sort(by, descending, true)?;\n",
    "    \n",
    "    println!(\"Original df after sort:\\n{}\", df);\n",
    "    \n",
    "    sorted_df\n",
    "}"
   ]
  },
  {
   "cell_type": "markdown",
   "id": "546c61b0",
   "metadata": {},
   "source": [
    "### Sort by single column\n",
    "\n",
    "Sort by **single column** with [DataFrame::sort_with_options()](https://pola-rs.github.io/polars/polars/frame/struct.DataFrame.html#method.sort_with_options) method:"
   ]
  },
  {
   "cell_type": "code",
   "execution_count": 13,
   "id": "eea54445",
   "metadata": {},
   "outputs": [
    {
     "name": "stdout",
     "output_type": "stream",
     "text": [
      "Original df after sort:\n",
      "shape: (3, 2)\n",
      "┌─────┬─────┐\n",
      "│ A   ┆ B   │\n",
      "│ --- ┆ --- │\n",
      "│ i32 ┆ str │\n",
      "╞═════╪═════╡\n",
      "│ 1   ┆ b   │\n",
      "│ 2   ┆ a   │\n",
      "│ 3   ┆ c   │\n",
      "└─────┴─────┘\n"
     ]
    },
    {
     "data": {
      "text/plain": [
       "shape: (3, 2)\n",
       "┌─────┬─────┐\n",
       "│ A   ┆ B   │\n",
       "│ --- ┆ --- │\n",
       "│ i32 ┆ str │\n",
       "╞═════╪═════╡\n",
       "│ 3   ┆ c   │\n",
       "│ 1   ┆ b   │\n",
       "│ 2   ┆ a   │\n",
       "└─────┴─────┘"
      ]
     },
     "execution_count": 13,
     "metadata": {},
     "output_type": "execute_result"
    }
   ],
   "source": [
    "{\n",
    "    let df = df![\n",
    "        \"A\" => [1, 2, 3],\n",
    "        \"B\" => [\"b\", \"a\", \"c\"]\n",
    "    ]?;\n",
    "\n",
    "    let sorted_df = df.sort_with_options(\"B\", SortOptions {\n",
    "        descending: true,\n",
    "        nulls_last: true,\n",
    "        multithreaded: false,\n",
    "        maintain_order: true\n",
    "    })?;\n",
    "    \n",
    "    println!(\"Original df after sort:\\n{}\", df);\n",
    "    \n",
    "    sorted_df\n",
    "}"
   ]
  },
  {
   "cell_type": "markdown",
   "id": "549bd84a",
   "metadata": {},
   "source": [
    "### Sorting in-place\n",
    "\n",
    "Sort by multiple columns in-place with [DataFrame::sort_in_place()](https://pola-rs.github.io/polars/polars/frame/struct.DataFrame.html#method.sort_in_place):"
   ]
  },
  {
   "cell_type": "code",
   "execution_count": 37,
   "id": "b723699d",
   "metadata": {},
   "outputs": [
    {
     "name": "stdout",
     "output_type": "stream",
     "text": [
      "shape: (3, 2)\n",
      "┌─────┬─────┐\n",
      "│ A   ┆ B   │\n",
      "│ --- ┆ --- │\n",
      "│ i32 ┆ str │\n",
      "╞═════╪═════╡\n",
      "│ 3   ┆ c   │\n",
      "│ 1   ┆ b   │\n",
      "│ 2   ┆ a   │\n",
      "└─────┴─────┘\n"
     ]
    },
    {
     "data": {
      "text/plain": [
       "()"
      ]
     },
     "execution_count": 37,
     "metadata": {},
     "output_type": "execute_result"
    }
   ],
   "source": [
    "{\n",
    "    let mut df = df![\n",
    "        \"A\" => [1, 2, 3],\n",
    "        \"B\" => [\"b\", \"a\", \"c\"]\n",
    "    ]?;\n",
    "\n",
    "    let by = [\"B\", \"A\"];\n",
    "    let descending = vec![true, false];\n",
    "    \n",
    "    df.sort_in_place(&by, descending, true)?;\n",
    "    \n",
    "    println!(\"{}\", df);\n",
    "}"
   ]
  },
  {
   "cell_type": "markdown",
   "id": "61ac0e01",
   "metadata": {},
   "source": [
    "## Sorting (Lazy API)"
   ]
  },
  {
   "cell_type": "markdown",
   "id": "c1066c8a",
   "metadata": {},
   "source": [
    "### Basic LazyFrame sorting\n",
    "\n",
    "Sort by single column with [LazyFrame::sort()](https://docs.rs/polars/latest/polars/prelude/struct.LazyFrame.html#method.sort) method."
   ]
  },
  {
   "cell_type": "code",
   "execution_count": 17,
   "id": "8997658b",
   "metadata": {},
   "outputs": [
    {
     "data": {
      "text/plain": [
       "shape: (3, 2)\n",
       "┌─────┬─────┐\n",
       "│ A   ┆ B   │\n",
       "│ --- ┆ --- │\n",
       "│ i32 ┆ str │\n",
       "╞═════╪═════╡\n",
       "│ 2   ┆ a   │\n",
       "│ 1   ┆ b   │\n",
       "│ 3   ┆ c   │\n",
       "└─────┴─────┘"
      ]
     },
     "execution_count": 17,
     "metadata": {},
     "output_type": "execute_result"
    }
   ],
   "source": [
    "{\n",
    "    let df = df![\n",
    "        \"A\" => [1, 2, 3],\n",
    "        \"B\" => [\"b\", \"a\", \"c\"]\n",
    "    ]?;\n",
    "\n",
    "    let by = vec![col(\"B\"), col(\"A\")];\n",
    "    let descending = vec![true, false];\n",
    "\n",
    "    let sorted_df = df.lazy()\n",
    "                      .sort(\"B\", Default::default())\n",
    "                      .collect()?;\n",
    "    // Note that lazy() takes ownership of df\n",
    "    sorted_df\n",
    "}"
   ]
  },
  {
   "cell_type": "markdown",
   "id": "93d643e0",
   "metadata": {},
   "source": [
    "### Sorting LazyFrame\n",
    "\n",
    "Use [LazyFrame::sort_by_exprs()](https://docs.rs/polars/latest/polars/prelude/struct.LazyFrame.html#method.sort_by_exprs)."
   ]
  },
  {
   "cell_type": "code",
   "execution_count": 16,
   "id": "b433e985",
   "metadata": {},
   "outputs": [
    {
     "data": {
      "text/plain": [
       "shape: (3, 2)\n",
       "┌─────┬─────┐\n",
       "│ A   ┆ B   │\n",
       "│ --- ┆ --- │\n",
       "│ i32 ┆ str │\n",
       "╞═════╪═════╡\n",
       "│ 3   ┆ c   │\n",
       "│ 1   ┆ b   │\n",
       "│ 2   ┆ a   │\n",
       "└─────┴─────┘"
      ]
     },
     "execution_count": 16,
     "metadata": {},
     "output_type": "execute_result"
    }
   ],
   "source": [
    "{\n",
    "    let df = df![\n",
    "        \"A\" => [1, 2, 3],\n",
    "        \"B\" => [\"b\", \"a\", \"c\"]\n",
    "    ]?;\n",
    "\n",
    "    let by = vec![col(\"B\"), col(\"A\")];\n",
    "    let descending = vec![true, false];\n",
    "\n",
    "    let sorted_df = df.lazy()\n",
    "                      .sort_by_exprs(by, descending, false, false)\n",
    "                      .collect()?;\n",
    "    \n",
    "    // Note that lazy() takes ownership of df\n",
    "    \n",
    "    sorted_df\n",
    "}"
   ]
  },
  {
   "cell_type": "markdown",
   "id": "d45777c8",
   "metadata": {},
   "source": [
    "## Joins (Eager API)\n",
    "\n",
    "References:\n",
    "\n",
    "- [left join (Polars API reference)](https://pola-rs.github.io/polars/polars/frame/struct.DataFrame.html#method.left_join)\n",
    "- [joins (Eeager API cookbook)](https://pola-rs.github.io/polars/polars/docs/eager/index.html#joins)\n"
   ]
  },
  {
   "cell_type": "code",
   "execution_count": 45,
   "id": "75c3ac7b",
   "metadata": {},
   "outputs": [
    {
     "name": "stdout",
     "output_type": "stream",
     "text": [
      "left join:\n",
      "shape: (5, 5)\n",
      "┌──────┬──────┬───────┬──────┬─────────────┐\n",
      "│ days ┆ temp ┆ other ┆ rain ┆ other_right │\n",
      "│ ---  ┆ ---  ┆ ---   ┆ ---  ┆ ---         │\n",
      "│ i32  ┆ f64  ┆ str   ┆ f64  ┆ str         │\n",
      "╞══════╪══════╪═══════╪══════╪═════════════╡\n",
      "│ 0    ┆ 22.1 ┆ zero  ┆ null ┆ null        │\n",
      "│ 1    ┆ 19.9 ┆ uno   ┆ 0.1  ┆ one         │\n",
      "│ 2    ┆ 7.0  ┆ two   ┆ 0.2  ┆ two         │\n",
      "│ 3    ┆ 2.0  ┆ three ┆ null ┆ null        │\n",
      "│ 4    ┆ 3.0  ┆ four  ┆ null ┆ null        │\n",
      "└──────┴──────┴───────┴──────┴─────────────┘\n",
      "\n",
      "inner join:\n",
      "shape: (2, 5)\n",
      "┌──────┬──────┬───────┬──────┬─────────────┐\n",
      "│ days ┆ temp ┆ other ┆ rain ┆ other_right │\n",
      "│ ---  ┆ ---  ┆ ---   ┆ ---  ┆ ---         │\n",
      "│ i32  ┆ f64  ┆ str   ┆ f64  ┆ str         │\n",
      "╞══════╪══════╪═══════╪══════╪═════════════╡\n",
      "│ 1    ┆ 19.9 ┆ uno   ┆ 0.1  ┆ one         │\n",
      "│ 2    ┆ 7.0  ┆ two   ┆ 0.2  ┆ two         │\n",
      "└──────┴──────┴───────┴──────┴─────────────┘\n",
      "\n",
      "outer join:\n",
      "shape: (6, 5)\n",
      "┌──────┬──────┬───────┬──────┬─────────────┐\n",
      "│ days ┆ temp ┆ other ┆ rain ┆ other_right │\n",
      "│ ---  ┆ ---  ┆ ---   ┆ ---  ┆ ---         │\n",
      "│ i32  ┆ f64  ┆ str   ┆ f64  ┆ str         │\n",
      "╞══════╪══════╪═══════╪══════╪═════════════╡\n",
      "│ 0    ┆ 22.1 ┆ zero  ┆ null ┆ null        │\n",
      "│ 1    ┆ 19.9 ┆ uno   ┆ 0.1  ┆ one         │\n",
      "│ 2    ┆ 7.0  ┆ two   ┆ 0.2  ┆ two         │\n",
      "│ 3    ┆ 2.0  ┆ three ┆ null ┆ null        │\n",
      "│ 4    ┆ 3.0  ┆ four  ┆ null ┆ null        │\n",
      "│ 9    ┆ null ┆ null  ┆ 0.9  ┆ nine        │\n",
      "└──────┴──────┴───────┴──────┴─────────────┘\n",
      "\n",
      "multi-column left join:\n",
      "shape: (5, 4)\n",
      "┌──────┬──────┬───────┬──────┐\n",
      "│ days ┆ temp ┆ other ┆ rain │\n",
      "│ ---  ┆ ---  ┆ ---   ┆ ---  │\n",
      "│ i32  ┆ f64  ┆ str   ┆ f64  │\n",
      "╞══════╪══════╪═══════╪══════╡\n",
      "│ 0    ┆ 22.1 ┆ zero  ┆ null │\n",
      "│ 1    ┆ 19.9 ┆ uno   ┆ null │\n",
      "│ 2    ┆ 7.0  ┆ two   ┆ 0.2  │\n",
      "│ 3    ┆ 2.0  ┆ three ┆ null │\n",
      "│ 4    ┆ 3.0  ┆ four  ┆ null │\n",
      "└──────┴──────┴───────┴──────┘\n",
      "\n",
      "multi-column inner join:\n",
      "shape: (1, 4)\n",
      "┌──────┬──────┬───────┬──────┐\n",
      "│ days ┆ temp ┆ other ┆ rain │\n",
      "│ ---  ┆ ---  ┆ ---   ┆ ---  │\n",
      "│ i32  ┆ f64  ┆ str   ┆ f64  │\n",
      "╞══════╪══════╪═══════╪══════╡\n",
      "│ 2    ┆ 7.0  ┆ two   ┆ 0.2  │\n",
      "└──────┴──────┴───────┴──────┘\n",
      "\n"
     ]
    },
    {
     "data": {
      "text/plain": [
       "()"
      ]
     },
     "execution_count": 45,
     "metadata": {},
     "output_type": "execute_result"
    }
   ],
   "source": [
    "{\n",
    "    // Create first df.\n",
    "    let temp = df!(\"days\" => &[0, 1, 2, 3, 4],\n",
    "                   \"temp\" => &[22.1, 19.9, 7., 2., 3.],\n",
    "                   \"other\" => &[\"zero\", \"uno\", \"two\", \"three\", \"four\"]\n",
    "    )?;\n",
    "\n",
    "    // Create second df.\n",
    "    let rain = df!(\"days\" => &[1, 2, 9],\n",
    "                   \"rain\" => &[0.1, 0.2, 0.9],\n",
    "                   \"other\" => &[\"one\", \"two\", \"nine\"]\n",
    "    )?;\n",
    "\n",
    "    // join on a single column\n",
    "    let df = temp.left_join(&rain, [\"days\"], [\"days\"])?;\n",
    "    println!(\"left join:\\n{}\\n\", df);\n",
    "    \n",
    "    let df = temp.inner_join(&rain, [\"days\"], [\"days\"])?;\n",
    "    println!(\"inner join:\\n{}\\n\", df);\n",
    "    \n",
    "    let df = temp.outer_join(&rain, [\"days\"], [\"days\"])?;\n",
    "    println!(\"outer join:\\n{}\\n\", df);\n",
    "\n",
    "    // left join on multiple columns\n",
    "    let df = temp.join(&rain, \n",
    "                       vec![\"days\", \"other\"], \n",
    "                       vec![\"days\", \"other\"], \n",
    "                       JoinArgs::new(JoinType::Left)\n",
    "    )?;\n",
    "    println!(\"multi-column left join:\\n{}\\n\", df);\n",
    "    \n",
    "    // inner join on multiple columns\n",
    "    let df = temp.join(&rain, \n",
    "                       vec![\"days\", \"other\"], \n",
    "                       vec![\"days\", \"other\"], \n",
    "                       JoinArgs::new(JoinType::Inner)\n",
    "    )?;\n",
    "    println!(\"multi-column inner join:\\n{}\\n\", df);\n",
    "    \n",
    "}"
   ]
  },
  {
   "cell_type": "markdown",
   "id": "136cff75",
   "metadata": {},
   "source": [
    "## GroupBy (Eager)\n",
    "\n",
    "References:\n",
    "\n",
    "- [GroupBy struct (Polars API reference)](https://pola-rs.github.io/polars/polars/frame/groupby/struct.GroupBy.html)\n",
    "- [GroupBy (Polars eager cookbook)](https://pola-rs.github.io/polars/polars/docs/eager/index.html#groupby)\n",
    "\n",
    "This is the DataFrame for this experiment."
   ]
  },
  {
   "cell_type": "code",
   "execution_count": 48,
   "id": "27a22c02",
   "metadata": {},
   "outputs": [
    {
     "data": {
      "text/plain": [
       "shape: (5, 3)\n",
       "┌────────────┬──────┬──────┐\n",
       "│ date       ┆ temp ┆ rain │\n",
       "│ ---        ┆ ---  ┆ ---  │\n",
       "│ date       ┆ i32  ┆ f64  │\n",
       "╞════════════╪══════╪══════╡\n",
       "│ 2020-08-21 ┆ 20   ┆ 0.2  │\n",
       "│ 2020-08-21 ┆ 10   ┆ 0.1  │\n",
       "│ 2020-08-22 ┆ 7    ┆ 0.3  │\n",
       "│ 2020-08-23 ┆ 9    ┆ 0.1  │\n",
       "│ 2020-08-22 ┆ 1    ┆ 0.01 │\n",
       "└────────────┴──────┴──────┘"
      ]
     },
     "execution_count": 48,
     "metadata": {},
     "output_type": "execute_result"
    }
   ],
   "source": [
    "let df = {\n",
    "    // Create DataFrame\n",
    "    let dates = &[\"2020-08-21\", \"2020-08-21\", \"2020-08-22\", \"2020-08-23\", \"2020-08-22\", ];\n",
    "    let fmt = \"%Y-%m-%d\";\n",
    "    let s0 = DateChunked::parse_from_str_slice(\"date\", dates, fmt)\n",
    "                         .into_series();\n",
    "    let s1 = Series::new(\"temp\", [20, 10, 7, 9, 1]);\n",
    "    let s2 = Series::new(\"rain\", [0.2, 0.1, 0.3, 0.1, 0.01]);\n",
    "\n",
    "    DataFrame::new(vec![s0, s1, s2]).unwrap()\n",
    "};\n",
    "\n",
    "df"
   ]
  },
  {
   "cell_type": "markdown",
   "id": "c27c5e19",
   "metadata": {},
   "source": [
    "### Group-by then aggregate\n",
    "\n",
    "Below are basic construct for group-by followed by aggregation. See [GroupBy struct (Polars reference)](https://pola-rs.github.io/polars/polars/frame/groupby/struct.GroupBy.html) for more aggregation methods (min, max, sum, etc.)."
   ]
  },
  {
   "cell_type": "code",
   "execution_count": 49,
   "id": "07385b03",
   "metadata": {},
   "outputs": [
    {
     "data": {
      "text/plain": [
       "shape: (3, 3)\n",
       "┌────────────┬───────────┬───────────┐\n",
       "│ date       ┆ temp_mean ┆ rain_mean │\n",
       "│ ---        ┆ ---       ┆ ---       │\n",
       "│ date       ┆ f64       ┆ f64       │\n",
       "╞════════════╪═══════════╪═══════════╡\n",
       "│ 2020-08-21 ┆ 15.0      ┆ 0.15      │\n",
       "│ 2020-08-23 ┆ 9.0       ┆ 0.1       │\n",
       "│ 2020-08-22 ┆ 4.0       ┆ 0.155     │\n",
       "└────────────┴───────────┴───────────┘"
      ]
     },
     "execution_count": 49,
     "metadata": {},
     "output_type": "execute_result"
    }
   ],
   "source": [
    "df.groupby([\"date\"])?\n",
    "  .select(&[\"temp\", \"rain\"])\n",
    "  .mean()?"
   ]
  },
  {
   "cell_type": "markdown",
   "id": "89169896",
   "metadata": {},
   "source": [
    "### Group members index"
   ]
  },
  {
   "cell_type": "code",
   "execution_count": 50,
   "id": "be6bb530",
   "metadata": {},
   "outputs": [
    {
     "data": {
      "text/plain": [
       "shape: (3, 2)\n",
       "┌────────────┬───────────┐\n",
       "│ date       ┆ groups    │\n",
       "│ ---        ┆ ---       │\n",
       "│ date       ┆ list[u32] │\n",
       "╞════════════╪═══════════╡\n",
       "│ 2020-08-21 ┆ [0, 1]    │\n",
       "│ 2020-08-22 ┆ [2, 4]    │\n",
       "│ 2020-08-23 ┆ [3]       │\n",
       "└────────────┴───────────┘"
      ]
     },
     "execution_count": 50,
     "metadata": {},
     "output_type": "execute_result"
    }
   ],
   "source": [
    "df.groupby([\"date\"])?\n",
    "  .groups()?"
   ]
  },
  {
   "cell_type": "markdown",
   "id": "1f796845",
   "metadata": {},
   "source": [
    "### Apply function to group\n",
    "\n",
    "The function can return arbitrary DataFrame."
   ]
  },
  {
   "cell_type": "code",
   "execution_count": 64,
   "id": "1123f57f",
   "metadata": {},
   "outputs": [
    {
     "data": {
      "text/plain": [
       "shape: (3, 4)\n",
       "┌──────────┬──────────┬──────────┬────────────┐\n",
       "│ min_temp ┆ max_temp ┆ avg_temp ┆ total_rain │\n",
       "│ ---      ┆ ---      ┆ ---      ┆ ---        │\n",
       "│ i32      ┆ i32      ┆ f64      ┆ f64        │\n",
       "╞══════════╪══════════╪══════════╪════════════╡\n",
       "│ 10       ┆ 20       ┆ 15.0     ┆ 0.3        │\n",
       "│ 9        ┆ 9        ┆ 9.0      ┆ 0.1        │\n",
       "│ 1        ┆ 7        ┆ 4.0      ┆ 0.31       │\n",
       "└──────────┴──────────┴──────────┴────────────┘"
      ]
     },
     "execution_count": 64,
     "metadata": {},
     "output_type": "execute_result"
    }
   ],
   "source": [
    "{\n",
    "    fn func(subset: DataFrame) -> Result<DataFrame, PolarsError> {\n",
    "        let \n",
    "        let min_temp : i32 = subset.column(\"temp\")?.min().unwrap();\n",
    "        let max_temp : i32 = subset.column(\"temp\")?.max().unwrap();\n",
    "        let avg_temp : f64 = subset.column(\"temp\")?.mean().unwrap();\n",
    "        let total_rain : f64 = subset.column(\"rain\")?.sum().unwrap();\n",
    "        \n",
    "        let result = DataFrame::new(\n",
    "            vec![\n",
    "                Series::new(\"date\",       vec![date] ),\n",
    "                Series::new(\"min_temp\",   vec![min_temp] ),\n",
    "                Series::new(\"max_temp\",   vec![max_temp] ),\n",
    "                Series::new(\"avg_temp\",   vec![avg_temp] ),\n",
    "                Series::new(\"total_rain\", vec![total_rain] ),\n",
    "            ]\n",
    "        )?;\n",
    "        \n",
    "        Ok(result)\n",
    "    }\n",
    "    \n",
    "    df.groupby([\"date\"])?\n",
    "      .apply( func )?\n",
    "}\n"
   ]
  },
  {
   "cell_type": "markdown",
   "id": "694872e6",
   "metadata": {},
   "source": [
    "## Advanced expressions (Lazy API)\n",
    "\n",
    "See [Expressions (Polars User Guide)](https://pola-rs.github.io/polars-book/user-guide/expressions/column_selections/#by-multiple-strings)"
   ]
  },
  {
   "cell_type": "code",
   "execution_count": null,
   "id": "0104a05d",
   "metadata": {},
   "outputs": [],
   "source": []
  }
 ],
 "metadata": {
  "kernelspec": {
   "display_name": "Rust",
   "language": "rust",
   "name": "rust"
  },
  "language_info": {
   "codemirror_mode": "rust",
   "file_extension": ".rs",
   "mimetype": "text/rust",
   "name": "Rust",
   "pygment_lexer": "rust",
   "version": ""
  }
 },
 "nbformat": 4,
 "nbformat_minor": 5
}
